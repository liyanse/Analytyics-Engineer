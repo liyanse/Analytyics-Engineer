{
 "cells": [
  {
   "cell_type": "markdown",
   "metadata": {},
   "source": [
    "### 1.0 Hypothesis"
   ]
  },
  {
   "cell_type": "markdown",
   "metadata": {},
   "source": [
    "Well see most of life's questions were answered by curiosity of man. \n",
    "\n",
    "For example, \"are we able to land on the moon?\"\n",
    "\n",
    " That was a basic question which went through a lot of scientific tests and methods before it could be true.\n",
    "\n",
    " The question itself is a hypothesis. \n",
    "\n",
    "A hypothesis is an assumption, an idea that is proposed for the sake of argument so that it can be tested to see if it might be true.\n",
    "\n",
    "There are two types, the null hypothesis and the alternate hypothesis\n",
    "\n",
    "A null hypothesis(H0) is one's default belief or argument about a subject matter. In the case of the earth's shape, the null hypothesis was that the earth was flat.\n",
    "\n",
    "An alternate hypothesis(H1) is a belief or argument a person might try to establish. Aristotle and Eratosthenes argued that the earth was spherical."
   ]
  },
  {
   "cell_type": "markdown",
   "metadata": {},
   "source": [
    "### 1.1 Hypothesis Testing"
   ]
  },
  {
   "cell_type": "markdown",
   "metadata": {},
   "source": [
    "Hypothesis testing is the act of testing whether a hypothesis or inference is true.\n",
    "\n",
    " When an alternate hypothesis is introduced, we test it against the null hypothesis to know which is correct. \n",
    "\n",
    " \n",
    "Let's use a baking experiment conducted by a 12-year-old student to illustrate hypothesis testing and errors. The hypothesis is that using a specific type of yeast will make cookies rise more compared to using another type of yeast. The student takes two batches of cookie dough, adds the different yeasts, and bakes the cookies. The rise in each batch is measured, and the results are recorded in a table.\n",
    "\n",
    "After the baking process, the student compares the final height or thickness of the cookies to determine which batch rose more. If the cookies with the specified yeast rise more, the hypothesis is supported. If not, the hypothesis is not supported. This experiment demonstrates the process of forming a hypothesis, conducting an experiment, and analyzing the outcomes.\n",
    "\n",
    "Now, let's relate this to hypothesis testing errors:\n",
    "\n",
    "Type I Error (False Positive):\n",
    "\n",
    "Situation: The student observes that the cookies with the specified yeast rose more when, in reality, there is no significant difference between the batches.\n",
    "Explanation: The student incorrectly concludes that the specific yeast leads to a significant rise in cookies when, in fact, it does not. This is a Type I error.\n",
    "Type II Error (False Negative):\n",
    "\n",
    "Situation: The cookies with the specified yeast do rise more, but the student fails to recognize this and concludes there is no significant difference between the batches.\n",
    "Explanation: The student misses the actual effect of the specified yeast on cookie rise. This is a Type II error as the student fails to reject the null hypothesis when it is incorrect."
   ]
  },
  {
   "cell_type": "markdown",
   "metadata": {},
   "source": [
    "### 1.2 What are the steps in Hypothesis Testing"
   ]
  },
  {
   "cell_type": "markdown",
   "metadata": {},
   "source": [
    "    \n",
    "    1.1 Define the null and alternate hypothesis -  \n",
    "    \n",
    "Before making any test, we must first define what we are testing and what the default assumption is about the subject.\n",
    "\n",
    "    1.2 Choose a significance level  - \n",
    "    \n",
    "The significance level is a threshold for determining if the test is valid. (A probability threshold that determines when you reject the null hypothesis) It gives credibility to our hypothesis test to ensure we are not just luck-dependent but have enough evidence to support our claims. We usually set our significance level before conducting our tests. The criterion for determining our significance value is known as p-value.\n",
    "\n",
    "A lower p-value means that there is stronger evidence against the null hypothesis, and therefore, a greater degree of significance. A p-value of 0.05 is widely accepted to be significant in most fields of science. P-values do not denote the probability of the outcome of the result, they just serve as a benchmark for determining whether our test result is due to chance.\n",
    "\n",
    "    1.3 Collect data and calculate test statistic - \n",
    "\n",
    "T-test is used for comparison of two sets of data when we don't know the population standard deviation. It's a parametric test, meaning it makes assumptions about the distribution of the data. These assumptions include that the data is normally distributed and that the variances of the two groups are equal. In a more simple and practical sense, imagine that we have test scores in a class for males and females, but we don't know how different or similar these scores are. We can use a t-test to see if there's a real difference.\n",
    "\n",
    "The Z-test is used for comparison between two sets of data when the population standard deviation is known. It is also a parametric test, but it makes fewer assumptions about the distribution of data. The z-test assumes that the data is normally distributed, but it does not assume that the variances of the two groups are equal. In our class test example, with the t-test, we can say that if we already know how spread out the scores are in both groups, we can now use the z-test to see if there's a difference in the average scores.\n",
    "\n",
    "The Chi-squared test is used to compare two or more categorical variables. The chi-squared test is a non-parametric test, meaning it does not make any assumptions about the distribution of data. It can be used to test a variety of hypotheses, including whether two or more groups have equal proportions.\n",
    "\n",
    "    1.4 Decide on the Null Hypothesis Based on the Test Statistic and Significance Level - \n",
    "\n",
    "After conducting our test and calculating the test statistic, we can compare its value to the predetermined significance level. If the test statistic falls beyond the significance level, we can decide to reject the null hypothesis, indicating that there is sufficient evidence to support our alternative hypothesis.\n",
    "\n",
    "On the other contrary, if the test statistic does not exceed the significance level, we fail to reject the null hypothesis, signifying that we do not have enough statistical evidence to conclude in favor of the alternative hypothesis.\n",
    "    \n",
    "    1.5 Interpret the Results -\n",
    "\n",
    "Depending on the decision made in the previous step, we can interpret the result in the context of our study and the practical implications. \n"
   ]
  },
  {
   "cell_type": "markdown",
   "metadata": {},
   "source": [
    "### Case Study\n",
    "\n",
    "1. Let's imagine a scenario where the average height of every 11 year old boy is 135cms.  Ho denotes a null hypothesis, while H1 denotes an alternate hypothesis.\n",
    "\n",
    "Ho = 135\n",
    "\n",
    "H1 = 135\n",
    "\n",
    "2. For our test, our p-value will be 0.05.\n",
    "\n",
    "3. For our test, we are generating random dummy data for the weight of the children. We'll use a t-test to evaluate whether our hypothesis is correct or not."
   ]
  },
  {
   "cell_type": "markdown",
   "metadata": {},
   "source": [
    "## Some examples of hypothesis testing"
   ]
  },
  {
   "cell_type": "markdown",
   "metadata": {},
   "source": [
    "![Screenshot (104).png](<attachment:Screenshot (104).png>)"
   ]
  },
  {
   "cell_type": "markdown",
   "metadata": {},
   "source": [
    "## Z test and P values & Zscores\n",
    "\n",
    "The p-value is a measure of the evidence against a null hypothesis. A small p-value (typically ≤ 0.05) suggests that the data provides enough evidence to reject the null hypothesis.\n",
    "\n",
    "Z-score measures how many standard deviations a data point is from the mean of a population. In hypothesis testing, it helps in determining the significance of an observation.\n",
    "\n",
    "A Z-test is used when the population standard deviation is known. It's often used for large sample sizes.\n",
    "\n",
    "A positive Z-score indicates that the data point is above the mean. A negative Z-score indicates that the data point is below the mean. The magnitude of the Z-score indicates how far away from the mean the data point is, in terms of standard deviations."
   ]
  },
  {
   "cell_type": "code",
   "execution_count": 2,
   "metadata": {},
   "outputs": [
    {
     "name": "stdout",
     "output_type": "stream",
     "text": [
      "Z-Scores: [-0.25031309  0.15018785 -1.05131497  0.55068879 -0.65081403 -1.45181591\n",
      "  0.95118973  1.75219161]\n",
      "P-Values: [0.5        0.69146246 0.15865525 0.84134475 0.30853754 0.0668072\n",
      " 0.9331928  0.99379033]\n"
     ]
    }
   ],
   "source": [
    "import scipy.stats as stats\n",
    "\n",
    "# Sample data\n",
    "sample_data = [175, 180, 165, 185, 170, 160, 190, 200]\n",
    "\n",
    "# Population mean and standard deviation \n",
    "pop_mean = 175\n",
    "pop_std = 10\n",
    "\n",
    "# Calculate z-score\n",
    "z_score, p_value = stats.zscore(sample_data), stats.norm.cdf(sample_data, loc=pop_mean, scale=pop_std)\n",
    "\n",
    "print(\"Z-Scores:\", z_score)\n",
    "print(\"P-Values:\", p_value)\n"
   ]
  },
  {
   "cell_type": "code",
   "execution_count": 5,
   "metadata": {},
   "outputs": [
    {
     "name": "stdout",
     "output_type": "stream",
     "text": [
      "Z-Scores: [-0.25031309  0.15018785 -1.05131497  0.55068879 -0.65081403 -1.45181591\n",
      "  0.95118973  1.75219161]\n",
      "P-Values: [0.5        0.69146246 0.15865525 0.84134475 0.30853754 0.0668072\n",
      " 0.9331928  0.99379033]\n"
     ]
    }
   ],
   "source": [
    "# One-sample Z-test\n",
    "z_stat, p_value = stats.zscore(sample_data), stats.norm.cdf(sample_data, loc=pop_mean, scale=pop_std)\n",
    "\n",
    "print(\"Z-Scores:\", z_stat)\n",
    "print(\"P-Values:\", p_value)\n"
   ]
  },
  {
   "cell_type": "markdown",
   "metadata": {},
   "source": [
    "1. T-test\n",
    "\n",
    "A statistical test used to determine whether a numeric data sample differs significantly from the population or whether two samples differ from one another. There are two types of t-test\n",
    "\n",
    "    a) One Sample T-test\n",
    "\n",
    "It checks whether the sample mean differs from the population mean. \n",
    "\n",
    "We test against a known population parameter.\n",
    "\n",
    "    b) Two Sample T-test\n",
    "\n",
    "It checks whether the mean of two independent data samples differ from one another. \n",
    "\n",
    "In this case we assume that the null hypothesis is that the means of the two groups are the same.\n",
    "\n",
    "We test against sample means\n",
    "\n",
    "    c) paired sample t-test:\n",
    "\n",
    " test the difference of means between two measurements of the same subject"
   ]
  },
  {
   "cell_type": "code",
   "execution_count": 6,
   "metadata": {},
   "outputs": [
    {
     "name": "stdout",
     "output_type": "stream",
     "text": [
      "Test statistic: -45.49271761087812\n",
      "p-value: 2.813086353705882e-89\n",
      "Reject the null hypothesis.\n"
     ]
    }
   ],
   "source": [
    "## Import the necessary modules\n",
    "\n",
    "import numpy as np\n",
    "import scipy.stats as stats\n",
    "\n",
    "# Create a dummy dataset of 11 year old children's height\n",
    "data = np.random.randint(70, 110, 150)\n",
    "\n",
    "# Define the null hypothesis\n",
    "H0 = \"The average weight of 11 year old children is 135cm.\"\n",
    "\n",
    "# Define the alternative hypothesis\n",
    "H1 = \"The average weight of 11 year old children is more than 135cm.\"\n",
    "\n",
    "# Calculate the test statistic\n",
    "t_stat, p_value = stats.ttest_1samp(data, 135)\n",
    "\n",
    "# Print the results\n",
    "print(\"Test statistic:\", t_stat)\n",
    "print(\"p-value:\", p_value)\n",
    "\n",
    "# Conclusion\n",
    "if p_value < 0.05:\n",
    "    print(\"Reject the null hypothesis.\")\n",
    "else:\n",
    "    print(\"Fail to reject the null hypothesis.\")"
   ]
  },
  {
   "cell_type": "markdown",
   "metadata": {},
   "source": [
    "### ANOVA Test\n",
    "\n",
    "Now that we know t-test is used to compare the mean of one or two sample groups. What if we want to test more than two samples?  Use ANOVA test. \n",
    "\n",
    "ANOVA examines the difference among groups by calculating the ratio of variance across different groups vs variance within a group. \n",
    "\n",
    "Larger ratio indicates that the difference across groups is a result of the group difference rather than just random chance.\n",
    "\n",
    "ANOVA is used to compare means of more than two groups.\n",
    "\n",
    "The F-statistic is a ratio of variances between groups to variances within groups. It measures whether there are significant differences among the group means.\n",
    "\n",
    " For example, if we have multiple groups and want to test if their means are significantly different."
   ]
  },
  {
   "cell_type": "code",
   "execution_count": 7,
   "metadata": {},
   "outputs": [
    {
     "name": "stdout",
     "output_type": "stream",
     "text": [
      "F-Statistic: 8.0\n",
      "P-Value: 0.0061963977594369675\n"
     ]
    }
   ],
   "source": [
    "# One-way ANOVA\n",
    "group1 = [65, 70, 75, 80, 85]\n",
    "group2 = [55, 60, 65, 70, 75]\n",
    "group3 = [75, 80, 85, 90, 95]\n",
    "\n",
    "f_stat, p_value = stats.f_oneway(group1, group2, group3)\n",
    "\n",
    "print(\"F-Statistic:\", f_stat)\n",
    "print(\"P-Value:\", p_value)\n"
   ]
  },
  {
   "cell_type": "markdown",
   "metadata": {},
   "source": [
    "### Chi-Squared test \n",
    "\n",
    "It's is for testing the relationship between two categorical variables. \n",
    "\n",
    "The underlying principle is that if two categorical variables are independent, then one categorical variable should have similar composition when the other categorical variable change. \n",
    "\n",
    "Chi-square tests are used for categorical data. \n",
    "\n",
    "The chi-square statistic is a measure of the difference between the observed and expected frequencies in a contingency table.\n",
    "\n",
    "Let's say we want to test if the distribution of eye colors in a population is as expected."
   ]
  },
  {
   "cell_type": "code",
   "execution_count": 8,
   "metadata": {},
   "outputs": [
    {
     "name": "stdout",
     "output_type": "stream",
     "text": [
      "Chi-Square Statistic: 5.176767676767677\n",
      "P-Value: 0.15930161466923004\n"
     ]
    }
   ],
   "source": [
    "# Chi-square test\n",
    "observed_values = [30, 20, 15, 35]\n",
    "expected_values = [25, 25, 25, 25]\n",
    "\n",
    "chi2_stat, p_value, dof, expected = stats.chi2_contingency([observed_values, expected_values])\n",
    "\n",
    "print(\"Chi-Square Statistic:\", chi2_stat)\n",
    "print(\"P-Value:\", p_value)\n"
   ]
  },
  {
   "cell_type": "code",
   "execution_count": null,
   "metadata": {},
   "outputs": [],
   "source": []
  }
 ],
 "metadata": {
  "kernelspec": {
   "display_name": "Python 3",
   "language": "python",
   "name": "python3"
  },
  "language_info": {
   "codemirror_mode": {
    "name": "ipython",
    "version": 3
   },
   "file_extension": ".py",
   "mimetype": "text/x-python",
   "name": "python",
   "nbconvert_exporter": "python",
   "pygments_lexer": "ipython3",
   "version": "3.11.5"
  },
  "orig_nbformat": 4
 },
 "nbformat": 4,
 "nbformat_minor": 2
}
